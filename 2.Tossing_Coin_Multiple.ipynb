{
 "cells": [
  {
   "cell_type": "markdown",
   "metadata": {
    "colab_type": "text",
    "id": "2trSTaf-u18J"
   },
   "source": [
    "## Create a function to toss coin"
   ]
  },
  {
   "cell_type": "code",
   "execution_count": 1,
   "metadata": {
    "colab": {},
    "colab_type": "code",
    "id": "Dqb7p4meu18K"
   },
   "outputs": [],
   "source": [
    "import numpy as np\n",
    "def tossCoins(bias, nsamples):\n",
    "    tosses = [1 if x< bias else 0 for x in np.random.rand(nsamples)]\n",
    "    return sum(tosses)/nsamples"
   ]
  },
  {
   "cell_type": "markdown",
   "metadata": {
    "colab_type": "text",
    "id": "anKuhblcu18P"
   },
   "source": [
    "## Now toss multiple times"
   ]
  },
  {
   "cell_type": "code",
   "execution_count": 2,
   "metadata": {
    "colab": {},
    "colab_type": "code",
    "id": "m0rkUlR9u18Q",
    "outputId": "572b2ce1-281e-4e32-c129-1820043c213c"
   },
   "outputs": [
    {
     "name": "stdout",
     "output_type": "stream",
     "text": [
      "[0.217 0.199 0.187]\n"
     ]
    }
   ],
   "source": [
    "arr = np.zeros(3)\n",
    "bias = 0.2\n",
    "nsamples = 1000\n",
    "\n",
    "arr[0]= tossCoins(bias, nsamples)\n",
    "arr[1]= tossCoins(bias, nsamples)\n",
    "arr[2]= tossCoins(bias, nsamples)\n",
    "\n",
    "print(arr)"
   ]
  },
  {
   "cell_type": "markdown",
   "metadata": {
    "colab_type": "text",
    "id": "7jste4WJu18V"
   },
   "source": [
    "## Let us see the pattern we get, by running more than thrice"
   ]
  },
  {
   "cell_type": "code",
   "execution_count": 3,
   "metadata": {
    "colab": {},
    "colab_type": "code",
    "id": "fZ1I5jgBu18V"
   },
   "outputs": [],
   "source": [
    "nrepeat = 1000\n",
    "arr = np.zeros(nrepeat)\n",
    "for i in range(nrepeat):\n",
    "    arr[i] = tossCoins(bias, nsamples)   \n"
   ]
  },
  {
   "cell_type": "markdown",
   "metadata": {
    "colab_type": "text",
    "id": "XQex7EjLu18b"
   },
   "source": [
    "## Let us look at an histogram now"
   ]
  },
  {
   "cell_type": "code",
   "execution_count": 6,
   "metadata": {
    "colab": {},
    "colab_type": "code",
    "id": "x7Nmno8Cu18b",
    "outputId": "f3a5275a-2346-41f6-a748-cf941d3bb63a"
   },
   "outputs": [
    {
     "data": {
      "image/png": "[encoded data removed]",
      "text/plain": [
       "<Figure size 432x288 with 1 Axes>"
      ]
     },
     "metadata": {
      "needs_background": "light"
     },
     "output_type": "display_data"
    }
   ],
   "source": [
    "import matplotlib.pyplot as plt\n",
    "plt.hist(arr, 100)\n",
    "plt.show()"
   ]
  }
 ],
 "metadata": {
  "colab": {
   "name": "Second Example.ipynb",
   "provenance": []
  },
  "kernelspec": {
   "display_name": "Python 3",
   "language": "python",
   "name": "python3"
  },
  "language_info": {
   "codemirror_mode": {
    "name": "ipython",
    "version": 3
   },
   "file_extension": ".py",
   "mimetype": "text/x-python",
   "name": "python",
   "nbconvert_exporter": "python",
   "pygments_lexer": "ipython3",
   "version": "3.8.3"
  }
 },
 "nbformat": 4,
 "nbformat_minor": 1
}
