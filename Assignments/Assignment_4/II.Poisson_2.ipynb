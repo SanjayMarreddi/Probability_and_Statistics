{
 "cells": [
  {
   "cell_type": "code",
   "execution_count": 1,
   "metadata": {},
   "outputs": [],
   "source": [
    "\"\"\"\n",
    "Author : Sanjay Marreddi\n",
    "Date   : 13-12-2020\n",
    "\"\"\"\n",
    "\n",
    "# Importing the required Libraries\n",
    "import numpy as np\n",
    "import matplotlib.pyplot as plt\n",
    "from numpy.random import exponential"
   ]
  },
  {
   "cell_type": "code",
   "execution_count": 2,
   "metadata": {},
   "outputs": [
    {
     "data": {
      "text/plain": [
       "Text(0.5, 1.0, 'Time of 10th Arrival in the Poisson Process')"
      ]
     },
     "execution_count": 2,
     "metadata": {},
     "output_type": "execute_result"
    },
    {
     "data": {
      "image/png": "[encoded data removed]",
      "text/plain": [
       "<Figure size 432x288 with 1 Axes>"
      ]
     },
     "metadata": {
      "needs_background": "light"
     },
     "output_type": "display_data"
    }
   ],
   "source": [
    "rate = 2\n",
    "scale = 1/rate\n",
    "\n",
    "k=10\n",
    "numOfSamples = 100000\n",
    "\n",
    "sampleRuns = np.zeros(numOfSamples)\n",
    "\n",
    "for currItx in range(numOfSamples):\n",
    "    \n",
    "    time_for_Kth_arrival = 0\n",
    "    \n",
    "    # Calculate time till k arrivals \n",
    "    for i in range(k):\n",
    "        \n",
    "        # Since It is a Poisson Process, interarrival time will have exponential distribution \n",
    "        time_for_Kth_arrival += np.random.exponential(scale)\n",
    "    \n",
    "    sampleRuns[currItx] = time_for_Kth_arrival\n",
    "    \n",
    "plt.hist(sampleRuns, 90)\n",
    "\n",
    "plt.title(\"Time of 10th Arrival in the Poisson Process\")"
   ]
  }
 ],
 "metadata": {
  "kernelspec": {
   "display_name": "Python 3",
   "language": "python",
   "name": "python3"
  },
  "language_info": {
   "codemirror_mode": {
    "name": "ipython",
    "version": 3
   },
   "file_extension": ".py",
   "mimetype": "text/x-python",
   "name": "python",
   "nbconvert_exporter": "python",
   "pygments_lexer": "ipython3",
   "version": "3.8.3"
  }
 },
 "nbformat": 4,
 "nbformat_minor": 4
}
