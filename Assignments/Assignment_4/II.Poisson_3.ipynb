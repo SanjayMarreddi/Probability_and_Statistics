{
 "cells": [
  {
   "cell_type": "code",
   "execution_count": 1,
   "metadata": {},
   "outputs": [],
   "source": [
    "\"\"\"\n",
    "Author : Sanjay Marreddi\n",
    "Date   : 13-12-2020\n",
    "\"\"\"\n",
    "\n",
    "# Importing the required Libraries\n",
    "import numpy as np\n",
    "import matplotlib.pyplot as plt\n",
    "from numpy.random import exponential"
   ]
  },
  {
   "cell_type": "code",
   "execution_count": 2,
   "metadata": {},
   "outputs": [
    {
     "name": "stdout",
     "output_type": "stream",
     "text": [
      "19.484857468820817\n",
      "\n",
      "From Theoretical Calculations, We would get mean interarrival time as 20 Minutes which is close to our estimate!\n"
     ]
    }
   ],
   "source": [
    "rate = 1/10\n",
    "scale = 1/rate\n",
    "\n",
    "numOfSamples = 10000\n",
    "arrivalTimes = []\n",
    "sampleRuns = np.zeros(numOfSamples)\n",
    "\n",
    "for currItx in range(numOfSamples):\n",
    "    \n",
    "    totalTime = 0.0\n",
    "    \n",
    "    # Run till Time is less than number of Minutes in a Day\n",
    "    while(totalTime < 24*60):\n",
    "        \n",
    "        # Since It is a Poisson Process, interarrival time will have exponential distribution \n",
    "        totalTime += np.random.exponential(scale) \n",
    "        \n",
    "        arrivalTimes.append(totalTime)\n",
    "        \n",
    "    # Since the Transport inspector arrives randomly, Its better to draw sample from Uniform Distribution \n",
    "    Inspector_Arrival = np.random.uniform(0, totalTime)\n",
    "    \n",
    "    Previous_Bus = 0\n",
    "    \n",
    "    Next_Bus = 0\n",
    "    \n",
    "    for Current_Bus in arrivalTimes:\n",
    "        \n",
    "        # Using the Inspector Arrival Time & assigning times of Previous and Next Buses accordingly.\n",
    "        \n",
    "        if Current_Bus > Inspector_Arrival:\n",
    "            Next_Bus = Current_Bus\n",
    "            break\n",
    "            \n",
    "        Previous_Bus = Current_Bus\n",
    "        \n",
    "    sampleRuns[currItx] = Next_Bus - Previous_Bus\n",
    "    \n",
    "print(np.mean(sampleRuns))\n",
    "\n",
    "print(\"\\nFrom Theoretical Calculations, We would get mean interarrival time as 20 Minutes which is close to our estimate!\" )"
   ]
  }
 ],
 "metadata": {
  "kernelspec": {
   "display_name": "Python 3",
   "language": "python",
   "name": "python3"
  },
  "language_info": {
   "codemirror_mode": {
    "name": "ipython",
    "version": 3
   },
   "file_extension": ".py",
   "mimetype": "text/x-python",
   "name": "python",
   "nbconvert_exporter": "python",
   "pygments_lexer": "ipython3",
   "version": "3.8.3"
  }
 },
 "nbformat": 4,
 "nbformat_minor": 4
}
