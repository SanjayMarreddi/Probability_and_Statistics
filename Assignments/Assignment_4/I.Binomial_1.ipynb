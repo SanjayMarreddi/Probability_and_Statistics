{
 "cells": [
  {
   "cell_type": "code",
   "execution_count": 1,
   "metadata": {},
   "outputs": [],
   "source": [
    "\"\"\"\n",
    "Author : Sanjay Marreddi\n",
    "Date   : 13-12-2020\n",
    "\"\"\"\n",
    "\n",
    "# Importing the required Libraries\n",
    "import numpy as np\n",
    "import matplotlib.pyplot as plt\n",
    "from numpy.random import binomial"
   ]
  },
  {
   "cell_type": "code",
   "execution_count": 2,
   "metadata": {},
   "outputs": [
    {
     "data": {
      "text/plain": [
       "Text(0.5, 1.0, 'PMF obtained via Simulation')"
      ]
     },
     "execution_count": 2,
     "metadata": {},
     "output_type": "execute_result"
    },
    {
     "data": {
      "image/png": "[encoded data removed]",
      "text/plain": [
       "<Figure size 432x288 with 1 Axes>"
      ]
     },
     "metadata": {
      "needs_background": "light"
     },
     "output_type": "display_data"
    }
   ],
   "source": [
    "k=5\n",
    "p=0.5\n",
    "\n",
    "outerIts = 10000\n",
    "pmfEst = {}\n",
    "for idx in range(outerIts):\n",
    "    \n",
    "    count=0 # Number of trials\n",
    "    currn=0 # No of Heads\n",
    "    \n",
    "    \n",
    "    # Tossing till we get k heads\n",
    "    while ( currn != k ):\n",
    "        \n",
    "            res = binomial(1,p)\n",
    "            \n",
    "            count+=1      #Incrementing the Trials after every toss\n",
    "            \n",
    "            if res == 1 : # If Head arrives, we increment\n",
    "                currn+=1\n",
    "    \n",
    "      \n",
    "    # Updating the empirical pmf\n",
    "    if count not in pmfEst:\n",
    "        pmfEst[count] = 1\n",
    "    else:\n",
    "        (pmfEst[count])+=1\n",
    "        \n",
    "\n",
    "\n",
    "l = 0\n",
    "for each in pmfEst.values():\n",
    "    l += each\n",
    "\n",
    "\n",
    "for i in pmfEst.keys():\n",
    "    pmfEst[i] = pmfEst[i]/l\n",
    "\n",
    "    # Normalising\n",
    "    \n",
    "plt.bar(pmfEst.keys(), pmfEst.values())\n",
    "plt.xlabel(\"No of Trials till 5th Arrival\")\n",
    "plt.ylabel(\"Probability\")\n",
    "plt.title(\"PMF obtained via Simulation\")"
   ]
  }
 ],
 "metadata": {
  "kernelspec": {
   "display_name": "Python 3",
   "language": "python",
   "name": "python3"
  },
  "language_info": {
   "codemirror_mode": {
    "name": "ipython",
    "version": 3
   },
   "file_extension": ".py",
   "mimetype": "text/x-python",
   "name": "python",
   "nbconvert_exporter": "python",
   "pygments_lexer": "ipython3",
   "version": "3.8.3"
  }
 },
 "nbformat": 4,
 "nbformat_minor": 4
}
