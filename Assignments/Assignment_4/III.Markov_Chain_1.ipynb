{
 "cells": [
  {
   "cell_type": "code",
   "execution_count": 1,
   "metadata": {},
   "outputs": [],
   "source": [
    "\"\"\"\n",
    "Author : Sanjay Marreddi\n",
    "Date   : 13-12-2020\n",
    "\"\"\"\n",
    "\n",
    "# Importing the required Libraries\n",
    "import numpy as np\n",
    "import matplotlib.pyplot as plt"
   ]
  },
  {
   "cell_type": "code",
   "execution_count": 2,
   "metadata": {},
   "outputs": [],
   "source": [
    "def count_frequencies(data, relative = False):\n",
    "    counter = {}\n",
    "    for element in data:\n",
    "        if element not in counter:\n",
    "            counter[element] = 1\n",
    "        else:\n",
    "            counter[element] += 1\n",
    "    if relative:\n",
    "        for element in counter:\n",
    "            counter[element] = counter[element]/ len(data)\n",
    "    return counter"
   ]
  },
  {
   "cell_type": "code",
   "execution_count": 3,
   "metadata": {},
   "outputs": [
    {
     "data": {
      "text/plain": [
       "Text(0, 0.5, 'Steady State Probability')"
      ]
     },
     "execution_count": 3,
     "metadata": {},
     "output_type": "execute_result"
    },
    {
     "data": {
      "image/png": "[encoded data removed]",
      "text/plain": [
       "<Figure size 432x288 with 1 Axes>"
      ]
     },
     "metadata": {
      "needs_background": "light"
     },
     "output_type": "display_data"
    }
   ],
   "source": [
    "k = 5\n",
    "p = 1/4\n",
    "q = 1/4\n",
    "startState = 0\n",
    "\n",
    "prob = np.array([[1-p,p,0,0,0],[q,1-p-q,p,0,0],[0,q,1-p-q,p,0],[0,0,q,1-p-q,p],[0,0,0,q,1-q]])\n",
    "\n",
    "numOfSamples = 1000\n",
    "markovChainRun = 100\n",
    "states =  list(range(k))\n",
    "\n",
    "sampleRuns = np.zeros(numOfSamples)\n",
    "\n",
    "for currItx in range(numOfSamples):\n",
    "    currState = startState\n",
    "\n",
    "    # Run the markov chain for 100 steps\n",
    "    for step in range(markovChainRun):\n",
    "    \n",
    "        temp = prob[currState:currState+1,:].tolist()\n",
    "        \n",
    "        req = np.array(temp)\n",
    "        \n",
    "        nextState = np.random.choice(a = states,size= 1,p=req[0],replace = True) \n",
    "        \n",
    "        currState = nextState[0]\n",
    "    \n",
    "    sampleRuns[currItx] = currState\n",
    "        \n",
    "pmfEst = count_frequencies(sampleRuns, True)\n",
    "plt.bar(pmfEst.keys(), pmfEst.values())\n",
    "\n",
    "\n",
    "\n",
    "plt.xlabel(\"State\")\n",
    "plt.ylabel(\"Steady State Probability\")"
   ]
  },
  {
   "cell_type": "markdown",
   "metadata": {},
   "source": [
    "## Theoretical Calculation gives all the steady state probabilities as equal to `0.2` which is a close approximate to the estimates of Probabilities as shown above"
   ]
  }
 ],
 "metadata": {
  "kernelspec": {
   "display_name": "Python 3",
   "language": "python",
   "name": "python3"
  },
  "language_info": {
   "codemirror_mode": {
    "name": "ipython",
    "version": 3
   },
   "file_extension": ".py",
   "mimetype": "text/x-python",
   "name": "python",
   "nbconvert_exporter": "python",
   "pygments_lexer": "ipython3",
   "version": "3.8.3"
  }
 },
 "nbformat": 4,
 "nbformat_minor": 4
}
