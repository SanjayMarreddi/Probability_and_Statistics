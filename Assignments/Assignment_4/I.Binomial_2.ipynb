{
 "cells": [
  {
   "cell_type": "code",
   "execution_count": 1,
   "metadata": {},
   "outputs": [],
   "source": [
    "\"\"\"\n",
    "Author : Sanjay Marreddi\n",
    "Date   : 13-12-2020\n",
    "\"\"\"\n",
    "\n",
    "# Importing the required Libraries\n",
    "import numpy as np\n",
    "import matplotlib.pyplot as plt\n",
    "from numpy.random import binomial"
   ]
  },
  {
   "cell_type": "code",
   "execution_count": 2,
   "metadata": {},
   "outputs": [],
   "source": [
    "def count_frequencies(data, relative = False):\n",
    "    counter = {}\n",
    "    for element in data:\n",
    "        if element not in counter:\n",
    "            counter[element] = 1\n",
    "        else:\n",
    "            counter[element] += 1\n",
    "    if relative:\n",
    "        for element in counter:\n",
    "            counter[element] = counter[element]/ len(data)\n",
    "    return counter"
   ]
  },
  {
   "cell_type": "code",
   "execution_count": 3,
   "metadata": {},
   "outputs": [
    {
     "data": {
      "text/plain": [
       "Text(0.5, 1.0, 'PMF obtained via Simulation')"
      ]
     },
     "execution_count": 3,
     "metadata": {},
     "output_type": "execute_result"
    },
    {
     "data": {
      "image/png": "[encoded data removed]",
      "text/plain": [
       "<Figure size 432x288 with 1 Axes>"
      ]
     },
     "metadata": {
      "needs_background": "light"
     },
     "output_type": "display_data"
    }
   ],
   "source": [
    "k=5\n",
    "p=0.5\n",
    "outerIts = 10000\n",
    "pmfEst = {}\n",
    "\n",
    "results = np.zeros(10000)\n",
    "\n",
    "for idx in range(outerIts):\n",
    "    count=0    \n",
    "    currToss = np.random.binomial(1,p) \n",
    "    \n",
    "    # TOSS till you get first failure\n",
    "    while (currToss != 0) :\n",
    "        currToss = np.random.binomial(1,p) \n",
    "    \n",
    "    count+=1\n",
    "    \n",
    "    currToss = np.random.binomial(1,p) \n",
    "    \n",
    "    # TOSS till you get first subsequent success, note the string of losing length\n",
    "    while (currToss != 1) :\n",
    "        count+=1\n",
    "        currToss = np.random.binomial(1,p)\n",
    "\n",
    "    results[idx] = count\n",
    "        \n",
    "    \n",
    "pmfEst = count_frequencies(results,True)        \n",
    "   \n",
    "\n",
    "plt.bar(pmfEst.keys(), pmfEst.values())\n",
    "plt.xlabel(\"No of Consecutive Zeroes\")\n",
    "plt.ylabel(\"Probability\")\n",
    "plt.title(\"PMF obtained via Simulation\")"
   ]
  },
  {
   "cell_type": "markdown",
   "metadata": {},
   "source": [
    "##### Theoretical PMF (Geometric)"
   ]
  },
  {
   "cell_type": "code",
   "execution_count": 4,
   "metadata": {},
   "outputs": [
    {
     "data": {
      "text/plain": [
       "Text(0.5, 1.0, 'Theoretical PMF (Geometric)')"
      ]
     },
     "execution_count": 4,
     "metadata": {},
     "output_type": "execute_result"
    },
    {
     "data": {
      "image/png": "[encoded data removed]",
      "text/plain": [
       "<Figure size 432x288 with 1 Axes>"
      ]
     },
     "metadata": {
      "needs_background": "light"
     },
     "output_type": "display_data"
    }
   ],
   "source": [
    "x = list(range(1,15))\n",
    "y = []\n",
    "for i in x:\n",
    "    y.append( (1-p)**i )  # i Consecutive Failures\n",
    "    \n",
    "plt.bar(x,y)\n",
    "plt.xlabel(\"No of Consecutive Zeroes\")\n",
    "plt.ylabel(\"Probability\")\n",
    "plt.title(\"Theoretical PMF (Geometric)\")"
   ]
  }
 ],
 "metadata": {
  "kernelspec": {
   "display_name": "Python 3",
   "language": "python",
   "name": "python3"
  },
  "language_info": {
   "codemirror_mode": {
    "name": "ipython",
    "version": 3
   },
   "file_extension": ".py",
   "mimetype": "text/x-python",
   "name": "python",
   "nbconvert_exporter": "python",
   "pygments_lexer": "ipython3",
   "version": "3.8.3"
  }
 },
 "nbformat": 4,
 "nbformat_minor": 4
}
