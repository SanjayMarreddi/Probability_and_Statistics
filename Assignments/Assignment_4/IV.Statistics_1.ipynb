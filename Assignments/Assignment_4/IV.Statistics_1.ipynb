{
 "cells": [
  {
   "cell_type": "code",
   "execution_count": null,
   "metadata": {},
   "outputs": [],
   "source": [
    "\"\"\"\n",
    "Author : Sanjay Marreddi\n",
    "Date   : 13-12-2020\n",
    "\"\"\"\n",
    "\n",
    "# Importing the required Libraries\n",
    "import numpy as np\n",
    "import matplotlib.pyplot as plt\n",
    "from numpy.random import binomial"
   ]
  },
  {
   "cell_type": "code",
   "execution_count": null,
   "metadata": {},
   "outputs": [],
   "source": [
    "mu_A = 0.55\n",
    "Error_Level = 0.03\n",
    "\n",
    "def Cheybshev():\n",
    "    \n",
    "    # Using the Chebyshev Inequality\n",
    "    popSize_Chebyshev = 5556 \n",
    "\n",
    "    outerIts = 10000\n",
    "    Error_counter = 0\n",
    "\n",
    "    for i in range(outerIts):\n",
    "\n",
    "        votes_A = np.random.binomial(popSize_Chebyshev,mu_A)\n",
    "\n",
    "        estimator_A = votes_A/popSize_Chebyshev\n",
    "        \n",
    "        if( np.abs(estimator_A-mu_A)>=Error_Level):\n",
    "            Error_counter += 1\n",
    "\n",
    "    return (Error_counter/outerIts)\n",
    "\n",
    "\n",
    "\n",
    "outerreps = 250\n",
    "error_estimation =  np.zeros(outerreps)\n",
    "for oidx in range(outerreps):\n",
    "    error_estimation[oidx] = Cheybshev()\n",
    "    \n",
    "\n",
    "plt.hist(error_estimation, bins = 100)\n",
    "\n",
    "plt.title(\"Simulation result via Chebyshev Inequality (n= 5556)\")"
   ]
  },
  {
   "cell_type": "code",
   "execution_count": null,
   "metadata": {},
   "outputs": [],
   "source": [
    "def central():\n",
    "    # Using the central limit theorem\n",
    "    popSize_CLT = 1067 \n",
    "\n",
    "    outerIts = 10000\n",
    "    Error_counter = 0\n",
    "\n",
    "    for i in range(outerIts):\n",
    "\n",
    "        votes_A = np.random.binomial(popSize_CLT,mu_A)\n",
    "\n",
    "        estimator_A = votes_A/popSize_CLT\n",
    "\n",
    "        if( np.abs(estimator_A-mu_A)>=Error_Level):\n",
    "            Error_counter += 1\n",
    "\n",
    "    return (Error_counter/outerIts)\n",
    "\n",
    "\n",
    "outerreps = 250\n",
    "error_estimation =  np.zeros(outerreps)\n",
    "for oidx in range(outerreps):\n",
    "    error_estimation[oidx] = central()\n",
    "    \n",
    "\n",
    "plt.hist(error_estimation, bins = 70)\n",
    "\n",
    "\n",
    "plt.title(\"Simulation result via Central Limit Theorem (n= 1067)\")"
   ]
  },
  {
   "cell_type": "markdown",
   "metadata": {},
   "source": [
    "#### From the above two plots,\n",
    "#### We can observe that most of the times, Error in case of CLT is around `0.05`. Error in case of Chebyshev is around `10^-5`. \n",
    "#### Since the Error associated with the strategy of using CLT is more than that of using Chebyshev, I would prefer using `Chebyshev`."
   ]
  }
 ],
 "metadata": {
  "kernelspec": {
   "display_name": "Python 3",
   "language": "python",
   "name": "python3"
  },
  "language_info": {
   "codemirror_mode": {
    "name": "ipython",
    "version": 3
   },
   "file_extension": ".py",
   "mimetype": "text/x-python",
   "name": "python",
   "nbconvert_exporter": "python",
   "pygments_lexer": "ipython3",
   "version": "3.8.3"
  }
 },
 "nbformat": 4,
 "nbformat_minor": 4
}
