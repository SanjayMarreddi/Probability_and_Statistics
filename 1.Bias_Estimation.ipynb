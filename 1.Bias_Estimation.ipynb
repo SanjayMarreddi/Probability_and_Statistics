{
 "cells": [
  {
   "cell_type": "markdown",
   "metadata": {
    "colab_type": "text",
    "id": "Y4KDTEQ4uhrQ"
   },
   "source": [
    "## Estimating the bias of a coin"
   ]
  },
  {
   "cell_type": "code",
   "execution_count": 1,
   "metadata": {
    "colab": {},
    "colab_type": "code",
    "id": "ot1dJjRvuhrW"
   },
   "outputs": [],
   "source": [
    "import numpy as np\n",
    "bias = 0.2"
   ]
  },
  {
   "cell_type": "markdown",
   "metadata": {
    "colab_type": "text",
    "id": "iv1Nanksuhrm"
   },
   "source": [
    "#### Numpy is a library in python which provides several useful utilities"
   ]
  },
  {
   "cell_type": "code",
   "execution_count": 2,
   "metadata": {
    "colab": {},
    "colab_type": "code",
    "id": "A--q8En0uhro"
   },
   "outputs": [],
   "source": [
    "nsamples = 100\n",
    "tosses = [1 if x< bias else 0 for x in np.random.rand(nsamples)]"
   ]
  },
  {
   "cell_type": "markdown",
   "metadata": {
    "colab_type": "text",
    "id": "4xw8olj3uhr4"
   },
   "source": [
    "#### Count the number of heads"
   ]
  },
  {
   "cell_type": "code",
   "execution_count": 3,
   "metadata": {
    "colab": {},
    "colab_type": "code",
    "id": "s8KB53ofuhr6",
    "outputId": "72607686-b451-4ca1-fc1e-03204322114b"
   },
   "outputs": [
    {
     "name": "stdout",
     "output_type": "stream",
     "text": [
      "18\n"
     ]
    }
   ],
   "source": [
    "print(sum(tosses))"
   ]
  }
 ],
 "metadata": {
  "colab": {
   "name": "First Example.ipynb",
   "provenance": []
  },
  "kernelspec": {
   "display_name": "Python 3",
   "language": "python",
   "name": "python3"
  },
  "language_info": {
   "codemirror_mode": {
    "name": "ipython",
    "version": 3
   },
   "file_extension": ".py",
   "mimetype": "text/x-python",
   "name": "python",
   "nbconvert_exporter": "python",
   "pygments_lexer": "ipython3",
   "version": "3.8.3"
  }
 },
 "nbformat": 4,
 "nbformat_minor": 1
}
