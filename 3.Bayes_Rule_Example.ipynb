{
 "cells": [
  {
   "cell_type": "markdown",
   "metadata": {
    "colab_type": "text",
    "id": "tDeYvVnfu2n8"
   },
   "source": [
    "Suppose that 5 percent of men and 0.25 percent of women are color-blind. A color-blind person is chosen at random, what is the probability that this person is male. Assume that there are equal number of males and females"
   ]
  },
  {
   "cell_type": "code",
   "execution_count": 1,
   "metadata": {
    "colab": {},
    "colab_type": "code",
    "id": "KxicBxIJu2n9"
   },
   "outputs": [],
   "source": [
    "import numpy as np\n",
    "\n",
    "npopulation = 100000\n",
    "\n",
    "probFemale = 0.5\n",
    "\n",
    "\n",
    "probCBGivenMale = 0.05/100\n",
    "probCBGivenFemale = 0.0025/100\n",
    "\n",
    "citizenGender = np.zeros(npopulation)\n",
    "citizenColorBlind = np.zeros(npopulation)\n",
    "\n",
    "# As we have taken a population of 100000, Using the probFemale We are assigning Gender. 1 for Female ,0 for Male\n",
    "citizenGender = [1 if x< probFemale else 0 for x in np.random.rand(npopulation)]"
   ]
  },
  {
   "cell_type": "markdown",
   "metadata": {
    "colab_type": "text",
    "id": "kLVgOwsTu2oD"
   },
   "source": [
    "Now citizens are more likely color-blind as per the probabilities given.  "
   ]
  },
  {
   "cell_type": "code",
   "execution_count": 3,
   "metadata": {
    "colab": {},
    "colab_type": "code",
    "id": "P_19d1xZu2oF",
    "outputId": "a4d5c68e-8dc4-402b-e11b-8fb7475e281b"
   },
   "outputs": [
    {
     "name": "stdout",
     "output_type": "stream",
     "text": [
      "0.9565217391304348\n"
     ]
    }
   ],
   "source": [
    "nColorBlindCount = 0\n",
    "nColorBlindMaleCount = 0\n",
    "\n",
    "for idx, citizen in enumerate(citizenGender):\n",
    "    if citizen ==1: # Given a citizen is female, checking whether they are having CB or not using given prob.\n",
    "        \n",
    "        citizenColorBlind[idx] = np.random.rand(1) < probCBGivenFemale \n",
    "    else:\n",
    "        citizenColorBlind[idx] = np.random.rand(1) < probCBGivenMale\n",
    "    if citizenColorBlind[idx]==True:\n",
    "        nColorBlindCount += 1\n",
    "        if citizen == 0:\n",
    "            nColorBlindMaleCount += 1\n",
    "\n",
    "print(nColorBlindMaleCount/nColorBlindCount)    "
   ]
  }
 ],
 "metadata": {
  "colab": {
   "name": "Third Example.ipynb",
   "provenance": []
  },
  "kernelspec": {
   "display_name": "Python 3",
   "language": "python",
   "name": "python3"
  },
  "language_info": {
   "codemirror_mode": {
    "name": "ipython",
    "version": 3
   },
   "file_extension": ".py",
   "mimetype": "text/x-python",
   "name": "python",
   "nbconvert_exporter": "python",
   "pygments_lexer": "ipython3",
   "version": "3.8.3"
  }
 },
 "nbformat": 4,
 "nbformat_minor": 1
}
