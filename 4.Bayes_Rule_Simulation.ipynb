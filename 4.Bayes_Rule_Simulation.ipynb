{
 "cells": [
  {
   "cell_type": "markdown",
   "metadata": {
    "colab_type": "text",
    "id": "4oFsZOyyu2e5"
   },
   "source": [
    "# To properly do simulation, we should have multiple repetitions"
   ]
  },
  {
   "cell_type": "code",
   "execution_count": null,
   "metadata": {
    "colab": {},
    "colab_type": "code",
    "id": "t-yoz3mBu2e6"
   },
   "outputs": [],
   "source": [
    "import numpy as np\n",
    "\n",
    "\n",
    "def simulateOnce(npopulation, probFemale, probCBGivenMale, probCBGivenFemale):\n",
    "    citizenGender = np.zeros(npopulation)\n",
    "    citizenColorBlind = np.zeros(npopulation)\n",
    "\n",
    "    citizenGender = [1 if x< probFemale else 0 for x in np.random.rand(npopulation)]\n",
    "\n",
    "    nColorBlindCount = 0\n",
    "    nColorBlindMaleCount = 0\n",
    "    for idx, citizen in enumerate(citizenGender):\n",
    "        if citizen ==1:\n",
    "            citizenColorBlind[idx] = np.random.rand(1) < probCBGivenFemale \n",
    "        else:\n",
    "            citizenColorBlind[idx] = np.random.rand(1) < probCBGivenMale\n",
    "        if citizenColorBlind[idx]==True:\n",
    "            nColorBlindCount += 1\n",
    "            if citizen == 0:\n",
    "                nColorBlindMaleCount += 1\n",
    "\n",
    "    return nColorBlindMaleCount/nColorBlindCount  "
   ]
  },
  {
   "cell_type": "markdown",
   "metadata": {
    "colab_type": "text",
    "id": "cIHumh-yu2fD"
   },
   "source": [
    "# Now let us do multiple repetitions"
   ]
  },
  {
   "cell_type": "code",
   "execution_count": null,
   "metadata": {
    "colab": {},
    "colab_type": "code",
    "id": "hK9oGQkMu2fE",
    "outputId": "efd00bed-4d2a-4a55-90b7-2876f5b75c95"
   },
   "outputs": [
    {
     "data": {
      "image/png": "[encoded data removed]",
      "text/plain": [
       "<Figure size 432x288 with 1 Axes>"
      ]
     },
     "metadata": {
      "needs_background": "light",
      "tags": []
     },
     "output_type": "display_data"
    }
   ],
   "source": [
    "npopulation = 1000000\n",
    "probFemale = 0.5\n",
    "probCBGivenMale = 0.05/100\n",
    "probCBGivenFemale = 0.0025/100\n",
    "\n",
    "nrepeat = 100\n",
    "arr = np.zeros(nrepeat)\n",
    "for i in range(nrepeat):\n",
    "    arr[i] = simulateOnce(npopulation, probFemale, probCBGivenMale, probCBGivenFemale)\n",
    "\n",
    "import matplotlib.pyplot as plt\n",
    "plt.hist(arr, 25)\n",
    "plt.show()"
   ]
  },
  {
   "cell_type": "code",
   "execution_count": null,
   "metadata": {
    "colab": {},
    "colab_type": "code",
    "id": "myRaoLPuu2fJ",
    "outputId": "66cea947-5e94-4e8e-df81-bf34d022874d"
   },
   "outputs": [
    {
     "name": "stdout",
     "output_type": "stream",
     "text": [
      "[0.95719844 0.95505618 0.95102041 0.97276265 0.95294118 0.97975709\n",
      " 0.9469697  0.95041322 0.9375     0.95959596 0.96126761 0.93023256\n",
      " 0.9540636  0.94915254 0.94464945 0.95669291 0.95703125 0.951417\n",
      " 0.9298893  0.94604317 0.96787149 0.94296578 0.92771084 0.97674419\n",
      " 0.95348837 0.94890511 0.93506494 0.95402299 0.93089431 0.93207547\n",
      " 0.94463668 0.91416309 0.95454545 0.96441281 0.94736842 0.97526502\n",
      " 0.94980695 0.93801653 0.92857143 0.93656716 0.95416667 0.92753623\n",
      " 0.94190871 0.93454545 0.94676806 0.95752896 0.93357934 0.94594595\n",
      " 0.9338843  0.93061224 0.94029851 0.93415638 0.9389313  0.93536122\n",
      " 0.96138996 0.93939394 0.96577947 0.94736842 0.94852941 0.94525547\n",
      " 0.97348485 0.95945946 0.9516129  0.93283582 0.95219124 0.94605809\n",
      " 0.96641791 0.96527778 0.95769231 0.96280992 0.95614035 0.95035461\n",
      " 0.96727273 0.94214876 0.96035242 0.94274809 0.97318008 0.95769231\n",
      " 0.95867769 0.96875    0.90697674 0.94615385 0.92682927 0.92075472\n",
      " 0.9159292  0.95686275 0.95057034 0.93574297 0.93382353 0.95\n",
      " 0.96309963 0.95255474 0.9738806  0.95402299 0.95255474 0.94936709\n",
      " 0.95769231 0.94354839 0.9676259  0.9496124 ]\n"
     ]
    }
   ],
   "source": [
    "print(arr)"
   ]
  },
  {
   "cell_type": "code",
   "execution_count": null,
   "metadata": {
    "colab": {},
    "colab_type": "code",
    "id": "J6ImQJoiu2fS",
    "outputId": "c13b6407-5cb5-4f49-97f2-5bdba11ad7f2"
   },
   "outputs": [
    {
     "data": {
      "image/png": "[encoded data removed]",
      "text/plain": [
       "<Figure size 432x288 with 1 Axes>"
      ]
     },
     "metadata": {
      "needs_background": "light",
      "tags": []
     },
     "output_type": "display_data"
    }
   ],
   "source": [
    "plt.hist(arr, 100)\n",
    "plt.show()"
   ]
  },
  {
   "cell_type": "code",
   "execution_count": null,
   "metadata": {
    "colab": {},
    "colab_type": "code",
    "id": "u0mLfivsu2fa"
   },
   "outputs": [],
   "source": []
  }
 ],
 "metadata": {
  "colab": {
   "name": "Fourth Example.ipynb",
   "provenance": []
  },
  "kernelspec": {
   "display_name": "Python 3",
   "language": "python",
   "name": "python3"
  },
  "language_info": {
   "codemirror_mode": {
    "name": "ipython",
    "version": 3
   },
   "file_extension": ".py",
   "mimetype": "text/x-python",
   "name": "python",
   "nbconvert_exporter": "python",
   "pygments_lexer": "ipython3",
   "version": "3.8.3"
  }
 },
 "nbformat": 4,
 "nbformat_minor": 1
}
