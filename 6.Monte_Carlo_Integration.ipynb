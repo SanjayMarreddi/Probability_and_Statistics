{
 "cells": [
  {
   "cell_type": "code",
   "execution_count": 1,
   "metadata": {},
   "outputs": [],
   "source": [
    "\"\"\"\n",
    "This file contains code for Monte Carlo Integration\n",
    "Author : Sanjay Marreddi\n",
    "Date   : 14-10-2020\n",
    "\"\"\"\n",
    "\n",
    "# Importing the required Libraries\n",
    "\n",
    "import numpy as np\n",
    "import matplotlib.pyplot as plt\n",
    "from scipy import random\n",
    "\n",
    "%matplotlib inline"
   ]
  },
  {
   "cell_type": "code",
   "execution_count": 2,
   "metadata": {},
   "outputs": [],
   "source": [
    "# Defining the Limits of Integration \n",
    "a = 0\n",
    "b = 1\n",
    "\n",
    "# Generating an array of N points between a and b\n",
    "N = 2000\n",
    "xrand =  random.uniform(a,b,N)"
   ]
  },
  {
   "cell_type": "code",
   "execution_count": 3,
   "metadata": {},
   "outputs": [],
   "source": [
    "# Defining the Function we want to Integrate.\n",
    "def function(x):\n",
    "    return np.sqrt(np.sin(x))"
   ]
  },
  {
   "cell_type": "code",
   "execution_count": 4,
   "metadata": {},
   "outputs": [],
   "source": [
    "# Evaluating the Integral using Monte Carlo Approximation\n",
    "\n",
    "integral= 0.0\n",
    "for i in range(N):\n",
    "    integral+= function(xrand[i])\n",
    "    \n",
    "result= (b-a)/float(N)*integral"
   ]
  },
  {
   "cell_type": "code",
   "execution_count": 5,
   "metadata": {},
   "outputs": [
    {
     "name": "stdout",
     "output_type": "stream",
     "text": [
      "Result of Integration obtained upon evaluating once 0.6349246227595179\n"
     ]
    }
   ],
   "source": [
    "print(\"Result of Integration obtained upon evaluating once\",result)"
   ]
  },
  {
   "cell_type": "code",
   "execution_count": 10,
   "metadata": {},
   "outputs": [],
   "source": [
    "# Repeating the above Process N times for Plotting the Distribution\n",
    "\n",
    "Integrals = []\n",
    "\n",
    "for i in range(N):\n",
    "    xrand =  random.uniform(a,b,N)\n",
    "    \n",
    "    integral =0.0\n",
    "    for i in range(N):\n",
    "        integral+= function(xrand[i])\n",
    "\n",
    "    result= (b-a)/float(N)*integral\n",
    "    Integrals.append(result)\n",
    "    "
   ]
  },
  {
   "cell_type": "code",
   "execution_count": 13,
   "metadata": {},
   "outputs": [
    {
     "data": {
      "text/plain": [
       "Text(0.5, 0, 'Values of Integral')"
      ]
     },
     "execution_count": 13,
     "metadata": {},
     "output_type": "execute_result"
    },
    {
     "data": {
      "image/png": "[encoded data removed]",
      "text/plain": [
       "<Figure size 432x288 with 1 Axes>"
      ]
     },
     "metadata": {
      "needs_background": "light"
     },
     "output_type": "display_data"
    }
   ],
   "source": [
    "# Defining the labels and plotting Histogram\n",
    "\n",
    "plt.title(\"Distribution of Integrals Calculated\")\n",
    "plt.hist(Integrals,bins=30)\n",
    "plt.xlabel(\"Values of Integral\")"
   ]
  }
 ],
 "metadata": {
  "kernelspec": {
   "display_name": "Python 3",
   "language": "python",
   "name": "python3"
  },
  "language_info": {
   "codemirror_mode": {
    "name": "ipython",
    "version": 3
   },
   "file_extension": ".py",
   "mimetype": "text/x-python",
   "name": "python",
   "nbconvert_exporter": "python",
   "pygments_lexer": "ipython3",
   "version": "3.8.3"
  }
 },
 "nbformat": 4,
 "nbformat_minor": 4
}
